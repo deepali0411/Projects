{
 "cells": [
  {
   "cell_type": "code",
   "execution_count": 1,
   "metadata": {},
   "outputs": [],
   "source": [
    "import pandas"
   ]
  },
  {
   "cell_type": "code",
   "execution_count": 4,
   "metadata": {},
   "outputs": [
    {
     "data": {
      "text/html": [
       "<div>\n",
       "<style scoped>\n",
       "    .dataframe tbody tr th:only-of-type {\n",
       "        vertical-align: middle;\n",
       "    }\n",
       "\n",
       "    .dataframe tbody tr th {\n",
       "        vertical-align: top;\n",
       "    }\n",
       "\n",
       "    .dataframe thead th {\n",
       "        text-align: right;\n",
       "    }\n",
       "</style>\n",
       "<table border=\"1\" class=\"dataframe\">\n",
       "  <thead>\n",
       "    <tr style=\"text-align: right;\">\n",
       "      <th></th>\n",
       "      <th>Sale_Price</th>\n",
       "      <th>No of Bedrooms</th>\n",
       "      <th>No of Bathrooms</th>\n",
       "      <th>Flat Area (in Sqft)</th>\n",
       "      <th>Lot Area (in Sqft)</th>\n",
       "      <th>No of Floors</th>\n",
       "      <th>No of Times Visited</th>\n",
       "      <th>Overall Grade</th>\n",
       "      <th>Area of the House from Basement (in Sqft)</th>\n",
       "      <th>Basement Area (in Sqft)</th>\n",
       "      <th>...</th>\n",
       "      <th>Waterfront_View_Yes</th>\n",
       "      <th>Zipcode_Group_Zipcode_Group_1</th>\n",
       "      <th>Zipcode_Group_Zipcode_Group_2</th>\n",
       "      <th>Zipcode_Group_Zipcode_Group_3</th>\n",
       "      <th>Zipcode_Group_Zipcode_Group_4</th>\n",
       "      <th>Zipcode_Group_Zipcode_Group_5</th>\n",
       "      <th>Zipcode_Group_Zipcode_Group_6</th>\n",
       "      <th>Zipcode_Group_Zipcode_Group_7</th>\n",
       "      <th>Zipcode_Group_Zipcode_Group_8</th>\n",
       "      <th>Zipcode_Group_Zipcode_Group_9</th>\n",
       "    </tr>\n",
       "  </thead>\n",
       "  <tbody>\n",
       "    <tr>\n",
       "      <th>0</th>\n",
       "      <td>221900.0</td>\n",
       "      <td>3</td>\n",
       "      <td>1.00</td>\n",
       "      <td>1180.0</td>\n",
       "      <td>5650.0</td>\n",
       "      <td>1.0</td>\n",
       "      <td>0</td>\n",
       "      <td>7</td>\n",
       "      <td>1180.0</td>\n",
       "      <td>0</td>\n",
       "      <td>...</td>\n",
       "      <td>0</td>\n",
       "      <td>0</td>\n",
       "      <td>0</td>\n",
       "      <td>0</td>\n",
       "      <td>0</td>\n",
       "      <td>0</td>\n",
       "      <td>0</td>\n",
       "      <td>0</td>\n",
       "      <td>0</td>\n",
       "      <td>0</td>\n",
       "    </tr>\n",
       "    <tr>\n",
       "      <th>1</th>\n",
       "      <td>538000.0</td>\n",
       "      <td>3</td>\n",
       "      <td>2.25</td>\n",
       "      <td>2570.0</td>\n",
       "      <td>7242.0</td>\n",
       "      <td>2.0</td>\n",
       "      <td>0</td>\n",
       "      <td>7</td>\n",
       "      <td>2170.0</td>\n",
       "      <td>400</td>\n",
       "      <td>...</td>\n",
       "      <td>0</td>\n",
       "      <td>0</td>\n",
       "      <td>1</td>\n",
       "      <td>0</td>\n",
       "      <td>0</td>\n",
       "      <td>0</td>\n",
       "      <td>0</td>\n",
       "      <td>0</td>\n",
       "      <td>0</td>\n",
       "      <td>0</td>\n",
       "    </tr>\n",
       "    <tr>\n",
       "      <th>2</th>\n",
       "      <td>180000.0</td>\n",
       "      <td>2</td>\n",
       "      <td>1.00</td>\n",
       "      <td>770.0</td>\n",
       "      <td>10000.0</td>\n",
       "      <td>1.0</td>\n",
       "      <td>0</td>\n",
       "      <td>6</td>\n",
       "      <td>770.0</td>\n",
       "      <td>0</td>\n",
       "      <td>...</td>\n",
       "      <td>0</td>\n",
       "      <td>0</td>\n",
       "      <td>1</td>\n",
       "      <td>0</td>\n",
       "      <td>0</td>\n",
       "      <td>0</td>\n",
       "      <td>0</td>\n",
       "      <td>0</td>\n",
       "      <td>0</td>\n",
       "      <td>0</td>\n",
       "    </tr>\n",
       "    <tr>\n",
       "      <th>3</th>\n",
       "      <td>604000.0</td>\n",
       "      <td>4</td>\n",
       "      <td>3.00</td>\n",
       "      <td>1960.0</td>\n",
       "      <td>5000.0</td>\n",
       "      <td>1.0</td>\n",
       "      <td>0</td>\n",
       "      <td>7</td>\n",
       "      <td>1050.0</td>\n",
       "      <td>910</td>\n",
       "      <td>...</td>\n",
       "      <td>0</td>\n",
       "      <td>0</td>\n",
       "      <td>0</td>\n",
       "      <td>1</td>\n",
       "      <td>0</td>\n",
       "      <td>0</td>\n",
       "      <td>0</td>\n",
       "      <td>0</td>\n",
       "      <td>0</td>\n",
       "      <td>0</td>\n",
       "    </tr>\n",
       "    <tr>\n",
       "      <th>4</th>\n",
       "      <td>510000.0</td>\n",
       "      <td>3</td>\n",
       "      <td>2.00</td>\n",
       "      <td>1680.0</td>\n",
       "      <td>8080.0</td>\n",
       "      <td>1.0</td>\n",
       "      <td>0</td>\n",
       "      <td>8</td>\n",
       "      <td>1680.0</td>\n",
       "      <td>0</td>\n",
       "      <td>...</td>\n",
       "      <td>0</td>\n",
       "      <td>0</td>\n",
       "      <td>0</td>\n",
       "      <td>0</td>\n",
       "      <td>1</td>\n",
       "      <td>0</td>\n",
       "      <td>0</td>\n",
       "      <td>0</td>\n",
       "      <td>0</td>\n",
       "      <td>0</td>\n",
       "    </tr>\n",
       "    <tr>\n",
       "      <th>5</th>\n",
       "      <td>1129575.0</td>\n",
       "      <td>4</td>\n",
       "      <td>4.50</td>\n",
       "      <td>5420.0</td>\n",
       "      <td>101930.0</td>\n",
       "      <td>1.0</td>\n",
       "      <td>0</td>\n",
       "      <td>10</td>\n",
       "      <td>3890.0</td>\n",
       "      <td>1530</td>\n",
       "      <td>...</td>\n",
       "      <td>0</td>\n",
       "      <td>0</td>\n",
       "      <td>0</td>\n",
       "      <td>0</td>\n",
       "      <td>1</td>\n",
       "      <td>0</td>\n",
       "      <td>0</td>\n",
       "      <td>0</td>\n",
       "      <td>0</td>\n",
       "      <td>0</td>\n",
       "    </tr>\n",
       "    <tr>\n",
       "      <th>6</th>\n",
       "      <td>257500.0</td>\n",
       "      <td>3</td>\n",
       "      <td>2.25</td>\n",
       "      <td>1715.0</td>\n",
       "      <td>6819.0</td>\n",
       "      <td>2.0</td>\n",
       "      <td>0</td>\n",
       "      <td>7</td>\n",
       "      <td>1715.0</td>\n",
       "      <td>0</td>\n",
       "      <td>...</td>\n",
       "      <td>0</td>\n",
       "      <td>0</td>\n",
       "      <td>0</td>\n",
       "      <td>0</td>\n",
       "      <td>0</td>\n",
       "      <td>0</td>\n",
       "      <td>0</td>\n",
       "      <td>0</td>\n",
       "      <td>0</td>\n",
       "      <td>0</td>\n",
       "    </tr>\n",
       "    <tr>\n",
       "      <th>7</th>\n",
       "      <td>291850.0</td>\n",
       "      <td>3</td>\n",
       "      <td>1.50</td>\n",
       "      <td>1060.0</td>\n",
       "      <td>9711.0</td>\n",
       "      <td>1.0</td>\n",
       "      <td>0</td>\n",
       "      <td>7</td>\n",
       "      <td>1060.0</td>\n",
       "      <td>0</td>\n",
       "      <td>...</td>\n",
       "      <td>0</td>\n",
       "      <td>0</td>\n",
       "      <td>0</td>\n",
       "      <td>0</td>\n",
       "      <td>0</td>\n",
       "      <td>0</td>\n",
       "      <td>0</td>\n",
       "      <td>0</td>\n",
       "      <td>0</td>\n",
       "      <td>0</td>\n",
       "    </tr>\n",
       "    <tr>\n",
       "      <th>8</th>\n",
       "      <td>229500.0</td>\n",
       "      <td>3</td>\n",
       "      <td>1.00</td>\n",
       "      <td>1780.0</td>\n",
       "      <td>7470.0</td>\n",
       "      <td>1.0</td>\n",
       "      <td>0</td>\n",
       "      <td>7</td>\n",
       "      <td>1050.0</td>\n",
       "      <td>730</td>\n",
       "      <td>...</td>\n",
       "      <td>0</td>\n",
       "      <td>1</td>\n",
       "      <td>0</td>\n",
       "      <td>0</td>\n",
       "      <td>0</td>\n",
       "      <td>0</td>\n",
       "      <td>0</td>\n",
       "      <td>0</td>\n",
       "      <td>0</td>\n",
       "      <td>0</td>\n",
       "    </tr>\n",
       "    <tr>\n",
       "      <th>9</th>\n",
       "      <td>323000.0</td>\n",
       "      <td>3</td>\n",
       "      <td>2.50</td>\n",
       "      <td>1890.0</td>\n",
       "      <td>6560.0</td>\n",
       "      <td>2.0</td>\n",
       "      <td>0</td>\n",
       "      <td>7</td>\n",
       "      <td>1890.0</td>\n",
       "      <td>0</td>\n",
       "      <td>...</td>\n",
       "      <td>0</td>\n",
       "      <td>1</td>\n",
       "      <td>0</td>\n",
       "      <td>0</td>\n",
       "      <td>0</td>\n",
       "      <td>0</td>\n",
       "      <td>0</td>\n",
       "      <td>0</td>\n",
       "      <td>0</td>\n",
       "      <td>0</td>\n",
       "    </tr>\n",
       "  </tbody>\n",
       "</table>\n",
       "<p>10 rows × 31 columns</p>\n",
       "</div>"
      ],
      "text/plain": [
       "   Sale_Price  No of Bedrooms  No of Bathrooms  Flat Area (in Sqft)  \\\n",
       "0    221900.0               3             1.00               1180.0   \n",
       "1    538000.0               3             2.25               2570.0   \n",
       "2    180000.0               2             1.00                770.0   \n",
       "3    604000.0               4             3.00               1960.0   \n",
       "4    510000.0               3             2.00               1680.0   \n",
       "5   1129575.0               4             4.50               5420.0   \n",
       "6    257500.0               3             2.25               1715.0   \n",
       "7    291850.0               3             1.50               1060.0   \n",
       "8    229500.0               3             1.00               1780.0   \n",
       "9    323000.0               3             2.50               1890.0   \n",
       "\n",
       "   Lot Area (in Sqft)  No of Floors  No of Times Visited  Overall Grade  \\\n",
       "0              5650.0           1.0                    0              7   \n",
       "1              7242.0           2.0                    0              7   \n",
       "2             10000.0           1.0                    0              6   \n",
       "3              5000.0           1.0                    0              7   \n",
       "4              8080.0           1.0                    0              8   \n",
       "5            101930.0           1.0                    0             10   \n",
       "6              6819.0           2.0                    0              7   \n",
       "7              9711.0           1.0                    0              7   \n",
       "8              7470.0           1.0                    0              7   \n",
       "9              6560.0           2.0                    0              7   \n",
       "\n",
       "   Area of the House from Basement (in Sqft)  Basement Area (in Sqft)  ...  \\\n",
       "0                                     1180.0                        0  ...   \n",
       "1                                     2170.0                      400  ...   \n",
       "2                                      770.0                        0  ...   \n",
       "3                                     1050.0                      910  ...   \n",
       "4                                     1680.0                        0  ...   \n",
       "5                                     3890.0                     1530  ...   \n",
       "6                                     1715.0                        0  ...   \n",
       "7                                     1060.0                        0  ...   \n",
       "8                                     1050.0                      730  ...   \n",
       "9                                     1890.0                        0  ...   \n",
       "\n",
       "   Waterfront_View_Yes  Zipcode_Group_Zipcode_Group_1  \\\n",
       "0                    0                              0   \n",
       "1                    0                              0   \n",
       "2                    0                              0   \n",
       "3                    0                              0   \n",
       "4                    0                              0   \n",
       "5                    0                              0   \n",
       "6                    0                              0   \n",
       "7                    0                              0   \n",
       "8                    0                              1   \n",
       "9                    0                              1   \n",
       "\n",
       "   Zipcode_Group_Zipcode_Group_2  Zipcode_Group_Zipcode_Group_3  \\\n",
       "0                              0                              0   \n",
       "1                              1                              0   \n",
       "2                              1                              0   \n",
       "3                              0                              1   \n",
       "4                              0                              0   \n",
       "5                              0                              0   \n",
       "6                              0                              0   \n",
       "7                              0                              0   \n",
       "8                              0                              0   \n",
       "9                              0                              0   \n",
       "\n",
       "   Zipcode_Group_Zipcode_Group_4  Zipcode_Group_Zipcode_Group_5  \\\n",
       "0                              0                              0   \n",
       "1                              0                              0   \n",
       "2                              0                              0   \n",
       "3                              0                              0   \n",
       "4                              1                              0   \n",
       "5                              1                              0   \n",
       "6                              0                              0   \n",
       "7                              0                              0   \n",
       "8                              0                              0   \n",
       "9                              0                              0   \n",
       "\n",
       "   Zipcode_Group_Zipcode_Group_6  Zipcode_Group_Zipcode_Group_7  \\\n",
       "0                              0                              0   \n",
       "1                              0                              0   \n",
       "2                              0                              0   \n",
       "3                              0                              0   \n",
       "4                              0                              0   \n",
       "5                              0                              0   \n",
       "6                              0                              0   \n",
       "7                              0                              0   \n",
       "8                              0                              0   \n",
       "9                              0                              0   \n",
       "\n",
       "   Zipcode_Group_Zipcode_Group_8  Zipcode_Group_Zipcode_Group_9  \n",
       "0                              0                              0  \n",
       "1                              0                              0  \n",
       "2                              0                              0  \n",
       "3                              0                              0  \n",
       "4                              0                              0  \n",
       "5                              0                              0  \n",
       "6                              0                              0  \n",
       "7                              0                              0  \n",
       "8                              0                              0  \n",
       "9                              0                              0  \n",
       "\n",
       "[10 rows x 31 columns]"
      ]
     },
     "execution_count": 4,
     "metadata": {},
     "output_type": "execute_result"
    }
   ],
   "source": [
    "house = pandas.read_csv(\"house.csv\")\n",
    "house.head(10)"
   ]
  },
  {
   "cell_type": "code",
   "execution_count": 5,
   "metadata": {},
   "outputs": [
    {
     "name": "stdout",
     "output_type": "stream",
     "text": [
      "<class 'pandas.core.frame.DataFrame'>\n",
      "RangeIndex: 21609 entries, 0 to 21608\n",
      "Data columns (total 31 columns):\n",
      " #   Column                                     Non-Null Count  Dtype  \n",
      "---  ------                                     --------------  -----  \n",
      " 0   Sale_Price                                 21609 non-null  float64\n",
      " 1   No of Bedrooms                             21609 non-null  int64  \n",
      " 2   No of Bathrooms                            21609 non-null  float64\n",
      " 3   Flat Area (in Sqft)                        21609 non-null  float64\n",
      " 4   Lot Area (in Sqft)                         21609 non-null  float64\n",
      " 5   No of Floors                               21609 non-null  float64\n",
      " 6   No of Times Visited                        21609 non-null  int64  \n",
      " 7   Overall Grade                              21609 non-null  int64  \n",
      " 8   Area of the House from Basement (in Sqft)  21609 non-null  float64\n",
      " 9   Basement Area (in Sqft)                    21609 non-null  int64  \n",
      " 10  Age of House (in Years)                    21609 non-null  int64  \n",
      " 11  Latitude                                   21609 non-null  float64\n",
      " 12  Longitude                                  21609 non-null  float64\n",
      " 13  Living Area after Renovation (in Sqft)     21609 non-null  float64\n",
      " 14  Lot Area after Renovation (in Sqft)        21609 non-null  int64  \n",
      " 15  Years Since Renovation                     21609 non-null  int64  \n",
      " 16  Condition_of_the_House_Excellent           21609 non-null  int64  \n",
      " 17  Condition_of_the_House_Fair                21609 non-null  int64  \n",
      " 18  Condition_of_the_House_Good                21609 non-null  int64  \n",
      " 19  Condition_of_the_House_Okay                21609 non-null  int64  \n",
      " 20  Ever_Renovated_Yes                         21609 non-null  int64  \n",
      " 21  Waterfront_View_Yes                        21609 non-null  int64  \n",
      " 22  Zipcode_Group_Zipcode_Group_1              21609 non-null  int64  \n",
      " 23  Zipcode_Group_Zipcode_Group_2              21609 non-null  int64  \n",
      " 24  Zipcode_Group_Zipcode_Group_3              21609 non-null  int64  \n",
      " 25  Zipcode_Group_Zipcode_Group_4              21609 non-null  int64  \n",
      " 26  Zipcode_Group_Zipcode_Group_5              21609 non-null  int64  \n",
      " 27  Zipcode_Group_Zipcode_Group_6              21609 non-null  int64  \n",
      " 28  Zipcode_Group_Zipcode_Group_7              21609 non-null  int64  \n",
      " 29  Zipcode_Group_Zipcode_Group_8              21609 non-null  int64  \n",
      " 30  Zipcode_Group_Zipcode_Group_9              21609 non-null  int64  \n",
      "dtypes: float64(9), int64(22)\n",
      "memory usage: 5.1 MB\n"
     ]
    }
   ],
   "source": [
    "house.info()"
   ]
  },
  {
   "cell_type": "code",
   "execution_count": 6,
   "metadata": {},
   "outputs": [
    {
     "ename": "KeyError",
     "evalue": "'sale_price'",
     "output_type": "error",
     "traceback": [
      "\u001b[1;31m---------------------------------------------------------------------------\u001b[0m",
      "\u001b[1;31mKeyError\u001b[0m                                  Traceback (most recent call last)",
      "\u001b[1;32mD:\\anaconda\\lib\\site-packages\\pandas\\core\\indexes\\base.py\u001b[0m in \u001b[0;36mget_loc\u001b[1;34m(self, key, method, tolerance)\u001b[0m\n\u001b[0;32m   2645\u001b[0m             \u001b[1;32mtry\u001b[0m\u001b[1;33m:\u001b[0m\u001b[1;33m\u001b[0m\u001b[1;33m\u001b[0m\u001b[0m\n\u001b[1;32m-> 2646\u001b[1;33m                 \u001b[1;32mreturn\u001b[0m \u001b[0mself\u001b[0m\u001b[1;33m.\u001b[0m\u001b[0m_engine\u001b[0m\u001b[1;33m.\u001b[0m\u001b[0mget_loc\u001b[0m\u001b[1;33m(\u001b[0m\u001b[0mkey\u001b[0m\u001b[1;33m)\u001b[0m\u001b[1;33m\u001b[0m\u001b[1;33m\u001b[0m\u001b[0m\n\u001b[0m\u001b[0;32m   2647\u001b[0m             \u001b[1;32mexcept\u001b[0m \u001b[0mKeyError\u001b[0m\u001b[1;33m:\u001b[0m\u001b[1;33m\u001b[0m\u001b[1;33m\u001b[0m\u001b[0m\n",
      "\u001b[1;32mpandas\\_libs\\index.pyx\u001b[0m in \u001b[0;36mpandas._libs.index.IndexEngine.get_loc\u001b[1;34m()\u001b[0m\n",
      "\u001b[1;32mpandas\\_libs\\index.pyx\u001b[0m in \u001b[0;36mpandas._libs.index.IndexEngine.get_loc\u001b[1;34m()\u001b[0m\n",
      "\u001b[1;32mpandas\\_libs\\hashtable_class_helper.pxi\u001b[0m in \u001b[0;36mpandas._libs.hashtable.PyObjectHashTable.get_item\u001b[1;34m()\u001b[0m\n",
      "\u001b[1;32mpandas\\_libs\\hashtable_class_helper.pxi\u001b[0m in \u001b[0;36mpandas._libs.hashtable.PyObjectHashTable.get_item\u001b[1;34m()\u001b[0m\n",
      "\u001b[1;31mKeyError\u001b[0m: 'sale_price'",
      "\nDuring handling of the above exception, another exception occurred:\n",
      "\u001b[1;31mKeyError\u001b[0m                                  Traceback (most recent call last)",
      "\u001b[1;32m<ipython-input-6-1c5778e3d2c4>\u001b[0m in \u001b[0;36m<module>\u001b[1;34m\u001b[0m\n\u001b[1;32m----> 1\u001b[1;33m \u001b[0mhouse\u001b[0m\u001b[1;33m[\u001b[0m\u001b[1;34m'sale_price'\u001b[0m\u001b[1;33m]\u001b[0m\u001b[1;33m.\u001b[0m\u001b[0mhead\u001b[0m\u001b[1;33m(\u001b[0m\u001b[1;36m10\u001b[0m\u001b[1;33m)\u001b[0m\u001b[1;33m\u001b[0m\u001b[1;33m\u001b[0m\u001b[0m\n\u001b[0m",
      "\u001b[1;32mD:\\anaconda\\lib\\site-packages\\pandas\\core\\frame.py\u001b[0m in \u001b[0;36m__getitem__\u001b[1;34m(self, key)\u001b[0m\n\u001b[0;32m   2798\u001b[0m             \u001b[1;32mif\u001b[0m \u001b[0mself\u001b[0m\u001b[1;33m.\u001b[0m\u001b[0mcolumns\u001b[0m\u001b[1;33m.\u001b[0m\u001b[0mnlevels\u001b[0m \u001b[1;33m>\u001b[0m \u001b[1;36m1\u001b[0m\u001b[1;33m:\u001b[0m\u001b[1;33m\u001b[0m\u001b[1;33m\u001b[0m\u001b[0m\n\u001b[0;32m   2799\u001b[0m                 \u001b[1;32mreturn\u001b[0m \u001b[0mself\u001b[0m\u001b[1;33m.\u001b[0m\u001b[0m_getitem_multilevel\u001b[0m\u001b[1;33m(\u001b[0m\u001b[0mkey\u001b[0m\u001b[1;33m)\u001b[0m\u001b[1;33m\u001b[0m\u001b[1;33m\u001b[0m\u001b[0m\n\u001b[1;32m-> 2800\u001b[1;33m             \u001b[0mindexer\u001b[0m \u001b[1;33m=\u001b[0m \u001b[0mself\u001b[0m\u001b[1;33m.\u001b[0m\u001b[0mcolumns\u001b[0m\u001b[1;33m.\u001b[0m\u001b[0mget_loc\u001b[0m\u001b[1;33m(\u001b[0m\u001b[0mkey\u001b[0m\u001b[1;33m)\u001b[0m\u001b[1;33m\u001b[0m\u001b[1;33m\u001b[0m\u001b[0m\n\u001b[0m\u001b[0;32m   2801\u001b[0m             \u001b[1;32mif\u001b[0m \u001b[0mis_integer\u001b[0m\u001b[1;33m(\u001b[0m\u001b[0mindexer\u001b[0m\u001b[1;33m)\u001b[0m\u001b[1;33m:\u001b[0m\u001b[1;33m\u001b[0m\u001b[1;33m\u001b[0m\u001b[0m\n\u001b[0;32m   2802\u001b[0m                 \u001b[0mindexer\u001b[0m \u001b[1;33m=\u001b[0m \u001b[1;33m[\u001b[0m\u001b[0mindexer\u001b[0m\u001b[1;33m]\u001b[0m\u001b[1;33m\u001b[0m\u001b[1;33m\u001b[0m\u001b[0m\n",
      "\u001b[1;32mD:\\anaconda\\lib\\site-packages\\pandas\\core\\indexes\\base.py\u001b[0m in \u001b[0;36mget_loc\u001b[1;34m(self, key, method, tolerance)\u001b[0m\n\u001b[0;32m   2646\u001b[0m                 \u001b[1;32mreturn\u001b[0m \u001b[0mself\u001b[0m\u001b[1;33m.\u001b[0m\u001b[0m_engine\u001b[0m\u001b[1;33m.\u001b[0m\u001b[0mget_loc\u001b[0m\u001b[1;33m(\u001b[0m\u001b[0mkey\u001b[0m\u001b[1;33m)\u001b[0m\u001b[1;33m\u001b[0m\u001b[1;33m\u001b[0m\u001b[0m\n\u001b[0;32m   2647\u001b[0m             \u001b[1;32mexcept\u001b[0m \u001b[0mKeyError\u001b[0m\u001b[1;33m:\u001b[0m\u001b[1;33m\u001b[0m\u001b[1;33m\u001b[0m\u001b[0m\n\u001b[1;32m-> 2648\u001b[1;33m                 \u001b[1;32mreturn\u001b[0m \u001b[0mself\u001b[0m\u001b[1;33m.\u001b[0m\u001b[0m_engine\u001b[0m\u001b[1;33m.\u001b[0m\u001b[0mget_loc\u001b[0m\u001b[1;33m(\u001b[0m\u001b[0mself\u001b[0m\u001b[1;33m.\u001b[0m\u001b[0m_maybe_cast_indexer\u001b[0m\u001b[1;33m(\u001b[0m\u001b[0mkey\u001b[0m\u001b[1;33m)\u001b[0m\u001b[1;33m)\u001b[0m\u001b[1;33m\u001b[0m\u001b[1;33m\u001b[0m\u001b[0m\n\u001b[0m\u001b[0;32m   2649\u001b[0m         \u001b[0mindexer\u001b[0m \u001b[1;33m=\u001b[0m \u001b[0mself\u001b[0m\u001b[1;33m.\u001b[0m\u001b[0mget_indexer\u001b[0m\u001b[1;33m(\u001b[0m\u001b[1;33m[\u001b[0m\u001b[0mkey\u001b[0m\u001b[1;33m]\u001b[0m\u001b[1;33m,\u001b[0m \u001b[0mmethod\u001b[0m\u001b[1;33m=\u001b[0m\u001b[0mmethod\u001b[0m\u001b[1;33m,\u001b[0m \u001b[0mtolerance\u001b[0m\u001b[1;33m=\u001b[0m\u001b[0mtolerance\u001b[0m\u001b[1;33m)\u001b[0m\u001b[1;33m\u001b[0m\u001b[1;33m\u001b[0m\u001b[0m\n\u001b[0;32m   2650\u001b[0m         \u001b[1;32mif\u001b[0m \u001b[0mindexer\u001b[0m\u001b[1;33m.\u001b[0m\u001b[0mndim\u001b[0m \u001b[1;33m>\u001b[0m \u001b[1;36m1\u001b[0m \u001b[1;32mor\u001b[0m \u001b[0mindexer\u001b[0m\u001b[1;33m.\u001b[0m\u001b[0msize\u001b[0m \u001b[1;33m>\u001b[0m \u001b[1;36m1\u001b[0m\u001b[1;33m:\u001b[0m\u001b[1;33m\u001b[0m\u001b[1;33m\u001b[0m\u001b[0m\n",
      "\u001b[1;32mpandas\\_libs\\index.pyx\u001b[0m in \u001b[0;36mpandas._libs.index.IndexEngine.get_loc\u001b[1;34m()\u001b[0m\n",
      "\u001b[1;32mpandas\\_libs\\index.pyx\u001b[0m in \u001b[0;36mpandas._libs.index.IndexEngine.get_loc\u001b[1;34m()\u001b[0m\n",
      "\u001b[1;32mpandas\\_libs\\hashtable_class_helper.pxi\u001b[0m in \u001b[0;36mpandas._libs.hashtable.PyObjectHashTable.get_item\u001b[1;34m()\u001b[0m\n",
      "\u001b[1;32mpandas\\_libs\\hashtable_class_helper.pxi\u001b[0m in \u001b[0;36mpandas._libs.hashtable.PyObjectHashTable.get_item\u001b[1;34m()\u001b[0m\n",
      "\u001b[1;31mKeyError\u001b[0m: 'sale_price'"
     ]
    }
   ],
   "source": [
    "house['sale_price'].head(10)"
   ]
  },
  {
   "cell_type": "code",
   "execution_count": 8,
   "metadata": {},
   "outputs": [
    {
     "data": {
      "text/plain": [
       "0     221900.0\n",
       "1     538000.0\n",
       "2     180000.0\n",
       "3     604000.0\n",
       "4     510000.0\n",
       "5    1129575.0\n",
       "6     257500.0\n",
       "7     291850.0\n",
       "8     229500.0\n",
       "9     323000.0\n",
       "Name: Sale_Price, dtype: float64"
      ]
     },
     "execution_count": 8,
     "metadata": {},
     "output_type": "execute_result"
    }
   ],
   "source": [
    "house['Sale_Price'].head(10)"
   ]
  },
  {
   "cell_type": "code",
   "execution_count": 10,
   "metadata": {},
   "outputs": [
    {
     "data": {
      "text/plain": [
       "21599     507250.0\n",
       "21600     429000.0\n",
       "21601     610685.0\n",
       "21602    1010000.0\n",
       "21603     475000.0\n",
       "21604     360000.0\n",
       "21605     400000.0\n",
       "21606     402101.0\n",
       "21607     400000.0\n",
       "21608     325000.0\n",
       "Name: Sale_Price, dtype: float64"
      ]
     },
     "execution_count": 10,
     "metadata": {},
     "output_type": "execute_result"
    }
   ],
   "source": [
    "house['Sale_Price'].tail(10)"
   ]
  },
  {
   "cell_type": "code",
   "execution_count": 11,
   "metadata": {},
   "outputs": [
    {
     "data": {
      "text/plain": [
       "count    2.160900e+04\n",
       "mean     5.116186e+05\n",
       "std      2.500620e+05\n",
       "min      7.500000e+04\n",
       "25%      3.219500e+05\n",
       "50%      4.500000e+05\n",
       "75%      6.450000e+05\n",
       "max      1.129575e+06\n",
       "Name: Sale_Price, dtype: float64"
      ]
     },
     "execution_count": 11,
     "metadata": {},
     "output_type": "execute_result"
    }
   ],
   "source": [
    "house['Sale_Price'].describe()"
   ]
  },
  {
   "cell_type": "code",
   "execution_count": 14,
   "metadata": {},
   "outputs": [],
   "source": [
    "import matplotlib.pyplot as plt"
   ]
  },
  {
   "cell_type": "code",
   "execution_count": 17,
   "metadata": {},
   "outputs": [
    {
     "data": {
      "text/plain": [
       "<matplotlib.collections.PathCollection at 0x1d4d5a17070>"
      ]
     },
     "execution_count": 17,
     "metadata": {},
     "output_type": "execute_result"
    },
    {
     "data": {
      "image/png": "[encoded data removed]",
      "text/plain": [
       "<Figure size 432x288 with 1 Axes>"
      ]
     },
     "metadata": {
      "needs_background": "light"
     },
     "output_type": "display_data"
    }
   ],
   "source": [
    "plt.scatter(x=house['No of Bedrooms'], y = house['Sale_Price'])"
   ]
  },
  {
   "cell_type": "code",
   "execution_count": 19,
   "metadata": {},
   "outputs": [],
   "source": [
    "import seaborn as sns"
   ]
  },
  {
   "cell_type": "code",
   "execution_count": 20,
   "metadata": {},
   "outputs": [
    {
     "data": {
      "text/plain": [
       "<matplotlib.axes._subplots.AxesSubplot at 0x1d4d7b22700>"
      ]
     },
     "execution_count": 20,
     "metadata": {},
     "output_type": "execute_result"
    },
    {
     "data": {
      "image/png": "[encoded data removed]",
      "text/plain": [
       "<Figure size 432x288 with 1 Axes>"
      ]
     },
     "metadata": {
      "needs_background": "light"
     },
     "output_type": "display_data"
    }
   ],
   "source": [
    "sns.boxplot(x= house['Sale_Price'])"
   ]
  },
  {
   "cell_type": "code",
   "execution_count": 22,
   "metadata": {},
   "outputs": [],
   "source": [
    " q1= house['Sale_Price'].quantile(0.25)\n",
    "q3 = house['Sale_Price'].quantile(0.75)  "
   ]
  },
  {
   "cell_type": "markdown",
   "metadata": {},
   "source": [
    "iqr= q3-q1"
   ]
  },
  {
   "cell_type": "code",
   "execution_count": 24,
   "metadata": {},
   "outputs": [],
   "source": [
    "iqr= q3-q1"
   ]
  },
  {
   "cell_type": "code",
   "execution_count": 25,
   "metadata": {},
   "outputs": [
    {
     "data": {
      "text/plain": [
       "323050.0"
      ]
     },
     "execution_count": 25,
     "metadata": {},
     "output_type": "execute_result"
    }
   ],
   "source": [
    "iqr"
   ]
  },
  {
   "cell_type": "code",
   "execution_count": 26,
   "metadata": {},
   "outputs": [],
   "source": [
    "upper_limit= q3+1.5*iqr\n",
    "lower_limit=q1-1.5*iqr"
   ]
  },
  {
   "cell_type": "code",
   "execution_count": 27,
   "metadata": {},
   "outputs": [
    {
     "data": {
      "text/plain": [
       "(1129575.0, -162625.0)"
      ]
     },
     "execution_count": 27,
     "metadata": {},
     "output_type": "execute_result"
    }
   ],
   "source": [
    "upper_limit, lower_limit"
   ]
  },
  {
   "cell_type": "code",
   "execution_count": 29,
   "metadata": {},
   "outputs": [],
   "source": [
    "def limit_imputer(value):\n",
    "    if value > upper_limit:\n",
    "        return upper_limit\n",
    "    if value<lower_limit:\n",
    "        return lower_limit\n",
    "    else:\n",
    "        return value"
   ]
  },
  {
   "cell_type": "code",
   "execution_count": 30,
   "metadata": {},
   "outputs": [],
   "source": [
    "house['Sale_Price']= house[\"Sale_Price\"].apply(limit_imputer)"
   ]
  },
  {
   "cell_type": "code",
   "execution_count": 31,
   "metadata": {},
   "outputs": [
    {
     "data": {
      "text/plain": [
       "count    2.160900e+04\n",
       "mean     5.116186e+05\n",
       "std      2.500620e+05\n",
       "min      7.500000e+04\n",
       "25%      3.219500e+05\n",
       "50%      4.500000e+05\n",
       "75%      6.450000e+05\n",
       "max      1.129575e+06\n",
       "Name: Sale_Price, dtype: float64"
      ]
     },
     "execution_count": 31,
     "metadata": {},
     "output_type": "execute_result"
    }
   ],
   "source": [
    "house['Sale_Price'].describe()"
   ]
  },
  {
   "cell_type": "code",
   "execution_count": 32,
   "metadata": {},
   "outputs": [
    {
     "name": "stdout",
     "output_type": "stream",
     "text": [
      "<class 'pandas.core.frame.DataFrame'>\n",
      "RangeIndex: 21609 entries, 0 to 21608\n",
      "Data columns (total 31 columns):\n",
      " #   Column                                     Non-Null Count  Dtype  \n",
      "---  ------                                     --------------  -----  \n",
      " 0   Sale_Price                                 21609 non-null  float64\n",
      " 1   No of Bedrooms                             21609 non-null  int64  \n",
      " 2   No of Bathrooms                            21609 non-null  float64\n",
      " 3   Flat Area (in Sqft)                        21609 non-null  float64\n",
      " 4   Lot Area (in Sqft)                         21609 non-null  float64\n",
      " 5   No of Floors                               21609 non-null  float64\n",
      " 6   No of Times Visited                        21609 non-null  int64  \n",
      " 7   Overall Grade                              21609 non-null  int64  \n",
      " 8   Area of the House from Basement (in Sqft)  21609 non-null  float64\n",
      " 9   Basement Area (in Sqft)                    21609 non-null  int64  \n",
      " 10  Age of House (in Years)                    21609 non-null  int64  \n",
      " 11  Latitude                                   21609 non-null  float64\n",
      " 12  Longitude                                  21609 non-null  float64\n",
      " 13  Living Area after Renovation (in Sqft)     21609 non-null  float64\n",
      " 14  Lot Area after Renovation (in Sqft)        21609 non-null  int64  \n",
      " 15  Years Since Renovation                     21609 non-null  int64  \n",
      " 16  Condition_of_the_House_Excellent           21609 non-null  int64  \n",
      " 17  Condition_of_the_House_Fair                21609 non-null  int64  \n",
      " 18  Condition_of_the_House_Good                21609 non-null  int64  \n",
      " 19  Condition_of_the_House_Okay                21609 non-null  int64  \n",
      " 20  Ever_Renovated_Yes                         21609 non-null  int64  \n",
      " 21  Waterfront_View_Yes                        21609 non-null  int64  \n",
      " 22  Zipcode_Group_Zipcode_Group_1              21609 non-null  int64  \n",
      " 23  Zipcode_Group_Zipcode_Group_2              21609 non-null  int64  \n",
      " 24  Zipcode_Group_Zipcode_Group_3              21609 non-null  int64  \n",
      " 25  Zipcode_Group_Zipcode_Group_4              21609 non-null  int64  \n",
      " 26  Zipcode_Group_Zipcode_Group_5              21609 non-null  int64  \n",
      " 27  Zipcode_Group_Zipcode_Group_6              21609 non-null  int64  \n",
      " 28  Zipcode_Group_Zipcode_Group_7              21609 non-null  int64  \n",
      " 29  Zipcode_Group_Zipcode_Group_8              21609 non-null  int64  \n",
      " 30  Zipcode_Group_Zipcode_Group_9              21609 non-null  int64  \n",
      "dtypes: float64(9), int64(22)\n",
      "memory usage: 5.1 MB\n"
     ]
    }
   ],
   "source": [
    "house.info()"
   ]
  },
  {
   "cell_type": "code",
   "execution_count": 33,
   "metadata": {},
   "outputs": [
    {
     "data": {
      "image/png": "[encoded data removed]",
      "text/plain": [
       "<Figure size 432x288 with 1 Axes>"
      ]
     },
     "metadata": {
      "needs_background": "light"
     },
     "output_type": "display_data"
    }
   ],
   "source": [
    "plt.hist(house['Sale_Price'], bins=10, color= 'green')\n",
    "plt.xlabel(\"Intervals\")\n",
    "plt.ylabel(\"Sale_Price\")\n",
    "plt.show()"
   ]
  },
  {
   "cell_type": "code",
   "execution_count": 53,
   "metadata": {},
   "outputs": [],
   "source": [
    "numerical_columns = [ 'Flat Area (in Sqft)' , 'No of Floors' , 'Basement Area (in Sqft)', 'Age of House (in Years)', 'Latitude', 'Longitude'     ]\n",
    "from sklearn.impute import SimpleImputer\n",
    "import numpy as np"
   ]
  },
  {
   "cell_type": "code",
   "execution_count": 54,
   "metadata": {},
   "outputs": [],
   "source": [
    "imputer = SimpleImputer(missing_values = np.nan, strategy = 'median')\n",
    "house[numerical_columns] =imputer.fit_transform(house[numerical_columns])"
   ]
  },
  {
   "cell_type": "code",
   "execution_count": 55,
   "metadata": {},
   "outputs": [
    {
     "name": "stdout",
     "output_type": "stream",
     "text": [
      "<class 'pandas.core.frame.DataFrame'>\n",
      "RangeIndex: 21609 entries, 0 to 21608\n",
      "Data columns (total 31 columns):\n",
      " #   Column                                     Non-Null Count  Dtype  \n",
      "---  ------                                     --------------  -----  \n",
      " 0   Sale_Price                                 21609 non-null  float64\n",
      " 1   No of Bedrooms                             21609 non-null  int64  \n",
      " 2   No of Bathrooms                            21609 non-null  float64\n",
      " 3   Flat Area (in Sqft)                        21609 non-null  float64\n",
      " 4   Lot Area (in Sqft)                         21609 non-null  float64\n",
      " 5   No of Floors                               21609 non-null  float64\n",
      " 6   No of Times Visited                        21609 non-null  int64  \n",
      " 7   Overall Grade                              21609 non-null  int64  \n",
      " 8   Area of the House from Basement (in Sqft)  21609 non-null  float64\n",
      " 9   Basement Area (in Sqft)                    21609 non-null  float64\n",
      " 10  Age of House (in Years)                    21609 non-null  float64\n",
      " 11  Latitude                                   21609 non-null  float64\n",
      " 12  Longitude                                  21609 non-null  float64\n",
      " 13  Living Area after Renovation (in Sqft)     21609 non-null  float64\n",
      " 14  Lot Area after Renovation (in Sqft)        21609 non-null  int64  \n",
      " 15  Years Since Renovation                     21609 non-null  int64  \n",
      " 16  Condition_of_the_House_Excellent           21609 non-null  int64  \n",
      " 17  Condition_of_the_House_Fair                21609 non-null  int64  \n",
      " 18  Condition_of_the_House_Good                21609 non-null  int64  \n",
      " 19  Condition_of_the_House_Okay                21609 non-null  int64  \n",
      " 20  Ever_Renovated_Yes                         21609 non-null  int64  \n",
      " 21  Waterfront_View_Yes                        21609 non-null  int64  \n",
      " 22  Zipcode_Group_Zipcode_Group_1              21609 non-null  int64  \n",
      " 23  Zipcode_Group_Zipcode_Group_2              21609 non-null  int64  \n",
      " 24  Zipcode_Group_Zipcode_Group_3              21609 non-null  int64  \n",
      " 25  Zipcode_Group_Zipcode_Group_4              21609 non-null  int64  \n",
      " 26  Zipcode_Group_Zipcode_Group_5              21609 non-null  int64  \n",
      " 27  Zipcode_Group_Zipcode_Group_6              21609 non-null  int64  \n",
      " 28  Zipcode_Group_Zipcode_Group_7              21609 non-null  int64  \n",
      " 29  Zipcode_Group_Zipcode_Group_8              21609 non-null  int64  \n",
      " 30  Zipcode_Group_Zipcode_Group_9              21609 non-null  int64  \n",
      "dtypes: float64(11), int64(20)\n",
      "memory usage: 5.1 MB\n"
     ]
    }
   ],
   "source": [
    "house.info()"
   ]
  },
  {
   "cell_type": "code",
   "execution_count": null,
   "metadata": {},
   "outputs": [],
   "source": [
    "/ "
   ]
  }
 ],
 "metadata": {
  "kernelspec": {
   "display_name": "Python 3",
   "language": "python",
   "name": "python3"
  },
  "language_info": {
   "codemirror_mode": {
    "name": "ipython",
    "version": 3
   },
   "file_extension": ".py",
   "mimetype": "text/x-python",
   "name": "python",
   "nbconvert_exporter": "python",
   "pygments_lexer": "ipython3",
   "version": "3.8.3"
  }
 },
 "nbformat": 4,
 "nbformat_minor": 4
}
